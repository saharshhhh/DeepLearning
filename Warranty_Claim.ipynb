{
  "nbformat": 4,
  "nbformat_minor": 0,
  "metadata": {
    "colab": {
      "provenance": [],
      "gpuType": "T4",
      "include_colab_link": true
    },
    "kernelspec": {
      "name": "python3",
      "display_name": "Python 3"
    },
    "language_info": {
      "name": "python"
    },
    "accelerator": "GPU"
  },
  "cells": [
    {
      "cell_type": "markdown",
      "metadata": {
        "id": "view-in-github",
        "colab_type": "text"
      },
      "source": [
        "<a href=\"https://colab.research.google.com/github/saharshhhh/DeepLearning/blob/main/Warranty_Claim.ipynb\" target=\"_parent\"><img src=\"https://colab.research.google.com/assets/colab-badge.svg\" alt=\"Open In Colab\"/></a>"
      ]
    },
    {
      "cell_type": "code",
      "execution_count": null,
      "metadata": {
        "id": "7aROyeaiWUH-"
      },
      "outputs": [],
      "source": [
        "import pandas as pd\n",
        "import numpy as np\n",
        "import matplotlib.pyplot as plt\n",
        "import seaborn as sns\n",
        "import tensorflow as tf\n",
        "from tensorflow import keras\n",
        "from tensorflow.keras.models import Sequential"
      ]
    },
    {
      "cell_type": "code",
      "source": [
        "data=pd.read_csv(\"/content/Warranty_Claim_Dataset.csv\")"
      ],
      "metadata": {
        "id": "hJBOMFuUW_Sf"
      },
      "execution_count": null,
      "outputs": []
    },
    {
      "cell_type": "code",
      "source": [
        "data"
      ],
      "metadata": {
        "id": "n7KhrCszYJsg",
        "colab": {
          "base_uri": "https://localhost:8080/",
          "height": 495
        },
        "outputId": "50b78368-dc7d-4238-f50c-397c74d38092"
      },
      "execution_count": null,
      "outputs": [
        {
          "output_type": "execute_result",
          "data": {
            "text/plain": [
              "            Region        State   Area     City Consumer_profile  \\\n",
              "0             East   Tamil Nadu  Rural   Ranchi         Personal   \n",
              "1             West    Jharkhand  Urban   Ranchi         Personal   \n",
              "2             West    Karnataka  Urban  Chennai         Business   \n",
              "3          Central    Karnataka  Urban  Chennai         Business   \n",
              "4       North East      Haryana  Rural   Mumbai         Personal   \n",
              "...            ...          ...    ...      ...              ...   \n",
              "100658       North        Delhi  Rural    Delhi         Personal   \n",
              "100659  North East  Maharashtra  Rural    Delhi         Business   \n",
              "100660  North East   Tamil Nadu  Rural    Delhi         Business   \n",
              "100661     Central    Jharkhand  Urban    Delhi         Personal   \n",
              "100662        West   Tamil Nadu  Urban  Chennai         Business   \n",
              "\n",
              "       Product_category  Product_type  AC_1001_Issue  AC_1002_Issue  \\\n",
              "0             Household  Refrigerator              0              0   \n",
              "1           Electronics            TV              0              0   \n",
              "2             Household     Microwave              0              0   \n",
              "3             Furniture            TV              1              1   \n",
              "4         Entertainment  Refrigerator              1              1   \n",
              "...                 ...           ...            ...            ...   \n",
              "100658        Furniture  Refrigerator              0              0   \n",
              "100659      Electronics            TV              0              1   \n",
              "100660    Entertainment            AC              0              0   \n",
              "100661        Household     Microwave              1              2   \n",
              "100662    Entertainment            TV              1              2   \n",
              "\n",
              "        TV_2001_Issue  TV_2002_Issue  TV_2003_Issue  Claim_Value  \\\n",
              "0                   0              0              1        18706   \n",
              "1                   0              1              0        46245   \n",
              "2                   1              0              0        12096   \n",
              "3                   0              1              1         9147   \n",
              "4                   0              1              1        15441   \n",
              "...               ...            ...            ...          ...   \n",
              "100658              1              1              1        45503   \n",
              "100659              0              2              2        16989   \n",
              "100660              1              0              2        14069   \n",
              "100661              1              2              0        35455   \n",
              "100662              0              2              2        39439   \n",
              "\n",
              "        Service_Centre  Product_Age Purchased_from  Call_details    Purpose  \\\n",
              "0                   17           80   Online Store           0.8  Complaint   \n",
              "1                   14           25   Manufacturer           3.0      Claim   \n",
              "2                   18           93         Dealer           4.7  Complaint   \n",
              "3                   19           86         Dealer           2.7  Complaint   \n",
              "4                    5           74         Dealer           3.4  Complaint   \n",
              "...                ...          ...            ...           ...        ...   \n",
              "100658              10           21   Online Store           3.0  Complaint   \n",
              "100659              14           85   Manufacturer           2.3      Claim   \n",
              "100660               5          118   Manufacturer           2.4      Claim   \n",
              "100661               7          101   Online Store           2.4      Claim   \n",
              "100662              11           18   Manufacturer           1.9  Complaint   \n",
              "\n",
              "        Fraud  \n",
              "0           0  \n",
              "1           0  \n",
              "2           0  \n",
              "3           0  \n",
              "4           1  \n",
              "...       ...  \n",
              "100658      0  \n",
              "100659      0  \n",
              "100660      0  \n",
              "100661      0  \n",
              "100662      0  \n",
              "\n",
              "[100663 rows x 19 columns]"
            ],
            "text/html": [
              "\n",
              "  <div id=\"df-df34bd91-fe89-4067-a807-3527931e1a8b\" class=\"colab-df-container\">\n",
              "    <div>\n",
              "<style scoped>\n",
              "    .dataframe tbody tr th:only-of-type {\n",
              "        vertical-align: middle;\n",
              "    }\n",
              "\n",
              "    .dataframe tbody tr th {\n",
              "        vertical-align: top;\n",
              "    }\n",
              "\n",
              "    .dataframe thead th {\n",
              "        text-align: right;\n",
              "    }\n",
              "</style>\n",
              "<table border=\"1\" class=\"dataframe\">\n",
              "  <thead>\n",
              "    <tr style=\"text-align: right;\">\n",
              "      <th></th>\n",
              "      <th>Region</th>\n",
              "      <th>State</th>\n",
              "      <th>Area</th>\n",
              "      <th>City</th>\n",
              "      <th>Consumer_profile</th>\n",
              "      <th>Product_category</th>\n",
              "      <th>Product_type</th>\n",
              "      <th>AC_1001_Issue</th>\n",
              "      <th>AC_1002_Issue</th>\n",
              "      <th>TV_2001_Issue</th>\n",
              "      <th>TV_2002_Issue</th>\n",
              "      <th>TV_2003_Issue</th>\n",
              "      <th>Claim_Value</th>\n",
              "      <th>Service_Centre</th>\n",
              "      <th>Product_Age</th>\n",
              "      <th>Purchased_from</th>\n",
              "      <th>Call_details</th>\n",
              "      <th>Purpose</th>\n",
              "      <th>Fraud</th>\n",
              "    </tr>\n",
              "  </thead>\n",
              "  <tbody>\n",
              "    <tr>\n",
              "      <th>0</th>\n",
              "      <td>East</td>\n",
              "      <td>Tamil Nadu</td>\n",
              "      <td>Rural</td>\n",
              "      <td>Ranchi</td>\n",
              "      <td>Personal</td>\n",
              "      <td>Household</td>\n",
              "      <td>Refrigerator</td>\n",
              "      <td>0</td>\n",
              "      <td>0</td>\n",
              "      <td>0</td>\n",
              "      <td>0</td>\n",
              "      <td>1</td>\n",
              "      <td>18706</td>\n",
              "      <td>17</td>\n",
              "      <td>80</td>\n",
              "      <td>Online Store</td>\n",
              "      <td>0.8</td>\n",
              "      <td>Complaint</td>\n",
              "      <td>0</td>\n",
              "    </tr>\n",
              "    <tr>\n",
              "      <th>1</th>\n",
              "      <td>West</td>\n",
              "      <td>Jharkhand</td>\n",
              "      <td>Urban</td>\n",
              "      <td>Ranchi</td>\n",
              "      <td>Personal</td>\n",
              "      <td>Electronics</td>\n",
              "      <td>TV</td>\n",
              "      <td>0</td>\n",
              "      <td>0</td>\n",
              "      <td>0</td>\n",
              "      <td>1</td>\n",
              "      <td>0</td>\n",
              "      <td>46245</td>\n",
              "      <td>14</td>\n",
              "      <td>25</td>\n",
              "      <td>Manufacturer</td>\n",
              "      <td>3.0</td>\n",
              "      <td>Claim</td>\n",
              "      <td>0</td>\n",
              "    </tr>\n",
              "    <tr>\n",
              "      <th>2</th>\n",
              "      <td>West</td>\n",
              "      <td>Karnataka</td>\n",
              "      <td>Urban</td>\n",
              "      <td>Chennai</td>\n",
              "      <td>Business</td>\n",
              "      <td>Household</td>\n",
              "      <td>Microwave</td>\n",
              "      <td>0</td>\n",
              "      <td>0</td>\n",
              "      <td>1</td>\n",
              "      <td>0</td>\n",
              "      <td>0</td>\n",
              "      <td>12096</td>\n",
              "      <td>18</td>\n",
              "      <td>93</td>\n",
              "      <td>Dealer</td>\n",
              "      <td>4.7</td>\n",
              "      <td>Complaint</td>\n",
              "      <td>0</td>\n",
              "    </tr>\n",
              "    <tr>\n",
              "      <th>3</th>\n",
              "      <td>Central</td>\n",
              "      <td>Karnataka</td>\n",
              "      <td>Urban</td>\n",
              "      <td>Chennai</td>\n",
              "      <td>Business</td>\n",
              "      <td>Furniture</td>\n",
              "      <td>TV</td>\n",
              "      <td>1</td>\n",
              "      <td>1</td>\n",
              "      <td>0</td>\n",
              "      <td>1</td>\n",
              "      <td>1</td>\n",
              "      <td>9147</td>\n",
              "      <td>19</td>\n",
              "      <td>86</td>\n",
              "      <td>Dealer</td>\n",
              "      <td>2.7</td>\n",
              "      <td>Complaint</td>\n",
              "      <td>0</td>\n",
              "    </tr>\n",
              "    <tr>\n",
              "      <th>4</th>\n",
              "      <td>North East</td>\n",
              "      <td>Haryana</td>\n",
              "      <td>Rural</td>\n",
              "      <td>Mumbai</td>\n",
              "      <td>Personal</td>\n",
              "      <td>Entertainment</td>\n",
              "      <td>Refrigerator</td>\n",
              "      <td>1</td>\n",
              "      <td>1</td>\n",
              "      <td>0</td>\n",
              "      <td>1</td>\n",
              "      <td>1</td>\n",
              "      <td>15441</td>\n",
              "      <td>5</td>\n",
              "      <td>74</td>\n",
              "      <td>Dealer</td>\n",
              "      <td>3.4</td>\n",
              "      <td>Complaint</td>\n",
              "      <td>1</td>\n",
              "    </tr>\n",
              "    <tr>\n",
              "      <th>...</th>\n",
              "      <td>...</td>\n",
              "      <td>...</td>\n",
              "      <td>...</td>\n",
              "      <td>...</td>\n",
              "      <td>...</td>\n",
              "      <td>...</td>\n",
              "      <td>...</td>\n",
              "      <td>...</td>\n",
              "      <td>...</td>\n",
              "      <td>...</td>\n",
              "      <td>...</td>\n",
              "      <td>...</td>\n",
              "      <td>...</td>\n",
              "      <td>...</td>\n",
              "      <td>...</td>\n",
              "      <td>...</td>\n",
              "      <td>...</td>\n",
              "      <td>...</td>\n",
              "      <td>...</td>\n",
              "    </tr>\n",
              "    <tr>\n",
              "      <th>100658</th>\n",
              "      <td>North</td>\n",
              "      <td>Delhi</td>\n",
              "      <td>Rural</td>\n",
              "      <td>Delhi</td>\n",
              "      <td>Personal</td>\n",
              "      <td>Furniture</td>\n",
              "      <td>Refrigerator</td>\n",
              "      <td>0</td>\n",
              "      <td>0</td>\n",
              "      <td>1</td>\n",
              "      <td>1</td>\n",
              "      <td>1</td>\n",
              "      <td>45503</td>\n",
              "      <td>10</td>\n",
              "      <td>21</td>\n",
              "      <td>Online Store</td>\n",
              "      <td>3.0</td>\n",
              "      <td>Complaint</td>\n",
              "      <td>0</td>\n",
              "    </tr>\n",
              "    <tr>\n",
              "      <th>100659</th>\n",
              "      <td>North East</td>\n",
              "      <td>Maharashtra</td>\n",
              "      <td>Rural</td>\n",
              "      <td>Delhi</td>\n",
              "      <td>Business</td>\n",
              "      <td>Electronics</td>\n",
              "      <td>TV</td>\n",
              "      <td>0</td>\n",
              "      <td>1</td>\n",
              "      <td>0</td>\n",
              "      <td>2</td>\n",
              "      <td>2</td>\n",
              "      <td>16989</td>\n",
              "      <td>14</td>\n",
              "      <td>85</td>\n",
              "      <td>Manufacturer</td>\n",
              "      <td>2.3</td>\n",
              "      <td>Claim</td>\n",
              "      <td>0</td>\n",
              "    </tr>\n",
              "    <tr>\n",
              "      <th>100660</th>\n",
              "      <td>North East</td>\n",
              "      <td>Tamil Nadu</td>\n",
              "      <td>Rural</td>\n",
              "      <td>Delhi</td>\n",
              "      <td>Business</td>\n",
              "      <td>Entertainment</td>\n",
              "      <td>AC</td>\n",
              "      <td>0</td>\n",
              "      <td>0</td>\n",
              "      <td>1</td>\n",
              "      <td>0</td>\n",
              "      <td>2</td>\n",
              "      <td>14069</td>\n",
              "      <td>5</td>\n",
              "      <td>118</td>\n",
              "      <td>Manufacturer</td>\n",
              "      <td>2.4</td>\n",
              "      <td>Claim</td>\n",
              "      <td>0</td>\n",
              "    </tr>\n",
              "    <tr>\n",
              "      <th>100661</th>\n",
              "      <td>Central</td>\n",
              "      <td>Jharkhand</td>\n",
              "      <td>Urban</td>\n",
              "      <td>Delhi</td>\n",
              "      <td>Personal</td>\n",
              "      <td>Household</td>\n",
              "      <td>Microwave</td>\n",
              "      <td>1</td>\n",
              "      <td>2</td>\n",
              "      <td>1</td>\n",
              "      <td>2</td>\n",
              "      <td>0</td>\n",
              "      <td>35455</td>\n",
              "      <td>7</td>\n",
              "      <td>101</td>\n",
              "      <td>Online Store</td>\n",
              "      <td>2.4</td>\n",
              "      <td>Claim</td>\n",
              "      <td>0</td>\n",
              "    </tr>\n",
              "    <tr>\n",
              "      <th>100662</th>\n",
              "      <td>West</td>\n",
              "      <td>Tamil Nadu</td>\n",
              "      <td>Urban</td>\n",
              "      <td>Chennai</td>\n",
              "      <td>Business</td>\n",
              "      <td>Entertainment</td>\n",
              "      <td>TV</td>\n",
              "      <td>1</td>\n",
              "      <td>2</td>\n",
              "      <td>0</td>\n",
              "      <td>2</td>\n",
              "      <td>2</td>\n",
              "      <td>39439</td>\n",
              "      <td>11</td>\n",
              "      <td>18</td>\n",
              "      <td>Manufacturer</td>\n",
              "      <td>1.9</td>\n",
              "      <td>Complaint</td>\n",
              "      <td>0</td>\n",
              "    </tr>\n",
              "  </tbody>\n",
              "</table>\n",
              "<p>100663 rows × 19 columns</p>\n",
              "</div>\n",
              "    <div class=\"colab-df-buttons\">\n",
              "      \n",
              "  <div class=\"colab-df-container\">\n",
              "    <button class=\"colab-df-convert\" onclick=\"convertToInteractive('df-df34bd91-fe89-4067-a807-3527931e1a8b')\"\n",
              "            title=\"Convert this dataframe to an interactive table.\"\n",
              "            style=\"display:none;\">\n",
              "      \n",
              "  <svg xmlns=\"http://www.w3.org/2000/svg\" height=\"24px\" viewBox=\"0 -960 960 960\">\n",
              "    <path d=\"M120-120v-720h720v720H120Zm60-500h600v-160H180v160Zm220 220h160v-160H400v160Zm0 220h160v-160H400v160ZM180-400h160v-160H180v160Zm440 0h160v-160H620v160ZM180-180h160v-160H180v160Zm440 0h160v-160H620v160Z\"/>\n",
              "  </svg>\n",
              "    </button>\n",
              "    \n",
              "  <style>\n",
              "    .colab-df-container {\n",
              "      display:flex;\n",
              "      gap: 12px;\n",
              "    }\n",
              "\n",
              "    .colab-df-convert {\n",
              "      background-color: #E8F0FE;\n",
              "      border: none;\n",
              "      border-radius: 50%;\n",
              "      cursor: pointer;\n",
              "      display: none;\n",
              "      fill: #1967D2;\n",
              "      height: 32px;\n",
              "      padding: 0 0 0 0;\n",
              "      width: 32px;\n",
              "    }\n",
              "\n",
              "    .colab-df-convert:hover {\n",
              "      background-color: #E2EBFA;\n",
              "      box-shadow: 0px 1px 2px rgba(60, 64, 67, 0.3), 0px 1px 3px 1px rgba(60, 64, 67, 0.15);\n",
              "      fill: #174EA6;\n",
              "    }\n",
              "\n",
              "    .colab-df-buttons div {\n",
              "      margin-bottom: 4px;\n",
              "    }\n",
              "\n",
              "    [theme=dark] .colab-df-convert {\n",
              "      background-color: #3B4455;\n",
              "      fill: #D2E3FC;\n",
              "    }\n",
              "\n",
              "    [theme=dark] .colab-df-convert:hover {\n",
              "      background-color: #434B5C;\n",
              "      box-shadow: 0px 1px 3px 1px rgba(0, 0, 0, 0.15);\n",
              "      filter: drop-shadow(0px 1px 2px rgba(0, 0, 0, 0.3));\n",
              "      fill: #FFFFFF;\n",
              "    }\n",
              "  </style>\n",
              "\n",
              "    <script>\n",
              "      const buttonEl =\n",
              "        document.querySelector('#df-df34bd91-fe89-4067-a807-3527931e1a8b button.colab-df-convert');\n",
              "      buttonEl.style.display =\n",
              "        google.colab.kernel.accessAllowed ? 'block' : 'none';\n",
              "\n",
              "      async function convertToInteractive(key) {\n",
              "        const element = document.querySelector('#df-df34bd91-fe89-4067-a807-3527931e1a8b');\n",
              "        const dataTable =\n",
              "          await google.colab.kernel.invokeFunction('convertToInteractive',\n",
              "                                                    [key], {});\n",
              "        if (!dataTable) return;\n",
              "\n",
              "        const docLinkHtml = 'Like what you see? Visit the ' +\n",
              "          '<a target=\"_blank\" href=https://colab.research.google.com/notebooks/data_table.ipynb>data table notebook</a>'\n",
              "          + ' to learn more about interactive tables.';\n",
              "        element.innerHTML = '';\n",
              "        dataTable['output_type'] = 'display_data';\n",
              "        await google.colab.output.renderOutput(dataTable, element);\n",
              "        const docLink = document.createElement('div');\n",
              "        docLink.innerHTML = docLinkHtml;\n",
              "        element.appendChild(docLink);\n",
              "      }\n",
              "    </script>\n",
              "  </div>\n",
              "  \n",
              "    </div>\n",
              "  </div>\n",
              "  "
            ]
          },
          "metadata": {},
          "execution_count": 3
        }
      ]
    },
    {
      "cell_type": "code",
      "source": [
        "df=pd.DataFrame(data)"
      ],
      "metadata": {
        "id": "ZRq35Lk_Yau6"
      },
      "execution_count": null,
      "outputs": []
    },
    {
      "cell_type": "code",
      "source": [
        "df.drop_duplicates(inplace=True)"
      ],
      "metadata": {
        "id": "tBd1v3DPqYhO"
      },
      "execution_count": null,
      "outputs": []
    },
    {
      "cell_type": "code",
      "source": [
        "for i in df.columns:\n",
        "  print(df[i].value_counts())"
      ],
      "metadata": {
        "colab": {
          "base_uri": "https://localhost:8080/"
        },
        "id": "uEO21XwsqbR7",
        "outputId": "084add91-1f8f-4a7f-ba1f-83e4ac313fef"
      },
      "execution_count": null,
      "outputs": [
        {
          "output_type": "stream",
          "name": "stdout",
          "text": [
            "Region\n",
            "North         16910\n",
            "South         16837\n",
            "West          16825\n",
            "Central       16813\n",
            "North East    16679\n",
            "East          16599\n",
            "Name: count, dtype: int64\n",
            "State\n",
            "Maharashtra    16897\n",
            "Jharkhand      16889\n",
            "Delhi          16804\n",
            "Karnataka      16760\n",
            "Haryana        16661\n",
            "Tamil Nadu     16652\n",
            "Name: count, dtype: int64\n",
            "Area\n",
            "Rural    50371\n",
            "Urban    50292\n",
            "Name: count, dtype: int64\n",
            "City\n",
            "Mumbai        16912\n",
            "Bangalore     16898\n",
            "Delhi         16778\n",
            "Ranchi        16757\n",
            "Chandigarh    16711\n",
            "Chennai       16607\n",
            "Name: count, dtype: int64\n",
            "Consumer_profile\n",
            "Personal    50381\n",
            "Business    50282\n",
            "Name: count, dtype: int64\n",
            "Product_category\n",
            "Furniture        25292\n",
            "Entertainment    25197\n",
            "Household        25120\n",
            "Electronics      25054\n",
            "Name: count, dtype: int64\n",
            "Product_type\n",
            "Microwave          20384\n",
            "AC                 20222\n",
            "TV                 20153\n",
            "Refrigerator       19960\n",
            "Washing Machine    19944\n",
            "Name: count, dtype: int64\n",
            "AC_1001_Issue\n",
            "1    50505\n",
            "0    50158\n",
            "Name: count, dtype: int64\n",
            "AC_1002_Issue\n",
            "1    33744\n",
            "2    33693\n",
            "0    33226\n",
            "Name: count, dtype: int64\n",
            "TV_2001_Issue\n",
            "1    50433\n",
            "0    50230\n",
            "Name: count, dtype: int64\n",
            "TV_2002_Issue\n",
            "0    33733\n",
            "2    33491\n",
            "1    33439\n",
            "Name: count, dtype: int64\n",
            "TV_2003_Issue\n",
            "0    33654\n",
            "2    33600\n",
            "1    33409\n",
            "Name: count, dtype: int64\n",
            "Claim_Value\n",
            "21562    11\n",
            "36257    10\n",
            "24303    10\n",
            "12544    10\n",
            "15779     9\n",
            "         ..\n",
            "12560     1\n",
            "23868     1\n",
            "28198     1\n",
            "7421      1\n",
            "13781     1\n",
            "Name: count, Length: 40191, dtype: int64\n",
            "Service_Centre\n",
            "8     6816\n",
            "9     6795\n",
            "13    6794\n",
            "11    6780\n",
            "17    6752\n",
            "14    6726\n",
            "12    6715\n",
            "19    6712\n",
            "15    6699\n",
            "10    6690\n",
            "7     6679\n",
            "18    6664\n",
            "6     6657\n",
            "5     6607\n",
            "16    6577\n",
            "Name: count, dtype: int64\n",
            "Product_Age\n",
            "93     933\n",
            "76     929\n",
            "78     903\n",
            "104    896\n",
            "96     893\n",
            "      ... \n",
            "89     802\n",
            "28     798\n",
            "94     796\n",
            "109    795\n",
            "61     795\n",
            "Name: count, Length: 119, dtype: int64\n",
            "Purchased_from\n",
            "Manufacturer    33629\n",
            "Online Store    33620\n",
            "Dealer          33414\n",
            "Name: count, dtype: int64\n",
            "Call_details\n",
            "2.4    2345\n",
            "1.7    2325\n",
            "1.5    2321\n",
            "4.3    2310\n",
            "0.7    2310\n",
            "1.3    2305\n",
            "0.6    2303\n",
            "4.2    2291\n",
            "3.5    2288\n",
            "1.1    2287\n",
            "4.7    2285\n",
            "3.2    2277\n",
            "3.4    2277\n",
            "4.0    2274\n",
            "3.0    2273\n",
            "4.8    2265\n",
            "3.6    2257\n",
            "2.6    2251\n",
            "0.9    2243\n",
            "1.6    2242\n",
            "2.1    2242\n",
            "4.5    2233\n",
            "1.0    2222\n",
            "1.2    2221\n",
            "3.8    2220\n",
            "2.9    2218\n",
            "4.9    2217\n",
            "1.9    2216\n",
            "2.8    2212\n",
            "4.1    2210\n",
            "3.7    2207\n",
            "0.8    2204\n",
            "3.3    2202\n",
            "3.1    2201\n",
            "1.8    2190\n",
            "4.6    2186\n",
            "2.3    2186\n",
            "2.5    2184\n",
            "1.4    2177\n",
            "2.2    2175\n",
            "3.9    2169\n",
            "2.7    2146\n",
            "4.4    2133\n",
            "2.0    2124\n",
            "0.5    1120\n",
            "5.0    1119\n",
            "Name: count, dtype: int64\n",
            "Purpose\n",
            "Complaint    50642\n",
            "Claim        50021\n",
            "Name: count, dtype: int64\n",
            "Fraud\n",
            "0    90697\n",
            "1     9966\n",
            "Name: count, dtype: int64\n"
          ]
        }
      ]
    },
    {
      "cell_type": "code",
      "source": [
        "for i in df.columns:\n",
        "  print(f\"{str(i)}\",df[i].isnull().sum())"
      ],
      "metadata": {
        "colab": {
          "base_uri": "https://localhost:8080/"
        },
        "id": "ixGomW9dqcJW",
        "outputId": "eb55d140-0135-4615-c053-07094a4450e6"
      },
      "execution_count": null,
      "outputs": [
        {
          "output_type": "stream",
          "name": "stdout",
          "text": [
            "Region 0\n",
            "State 0\n",
            "Area 0\n",
            "City 0\n",
            "Consumer_profile 0\n",
            "Product_category 0\n",
            "Product_type 0\n",
            "AC_1001_Issue 0\n",
            "AC_1002_Issue 0\n",
            "TV_2001_Issue 0\n",
            "TV_2002_Issue 0\n",
            "TV_2003_Issue 0\n",
            "Claim_Value 0\n",
            "Service_Centre 0\n",
            "Product_Age 0\n",
            "Purchased_from 0\n",
            "Call_details 0\n",
            "Purpose 0\n",
            "Fraud 0\n"
          ]
        }
      ]
    },
    {
      "cell_type": "code",
      "source": [
        "df.shape"
      ],
      "metadata": {
        "colab": {
          "base_uri": "https://localhost:8080/"
        },
        "id": "xvXO8tmWTlcc",
        "outputId": "9b6a9fa0-a37f-418f-bdf2-df6fd8209c00"
      },
      "execution_count": null,
      "outputs": [
        {
          "output_type": "execute_result",
          "data": {
            "text/plain": [
              "(100663, 19)"
            ]
          },
          "metadata": {},
          "execution_count": 8
        }
      ]
    },
    {
      "cell_type": "code",
      "source": [
        "from sklearn.preprocessing import LabelEncoder\n",
        "le=LabelEncoder()\n",
        "df_encoded=df.copy()\n",
        "cat_cols=['Consumer_profile',\t'Product_category',\t'Product_type', 'Purchased_from', 'Purpose']\n",
        "for i in cat_cols:\n",
        "  df_encoded[i] = le.fit_transform(df_encoded[i])\n",
        "df_encoded.shape"
      ],
      "metadata": {
        "colab": {
          "base_uri": "https://localhost:8080/"
        },
        "id": "wyps8JCYU0PE",
        "outputId": "50ef9ffe-75a5-4b01-c447-13ba6f31e576"
      },
      "execution_count": null,
      "outputs": [
        {
          "output_type": "execute_result",
          "data": {
            "text/plain": [
              "(100663, 19)"
            ]
          },
          "metadata": {},
          "execution_count": 9
        }
      ]
    },
    {
      "cell_type": "code",
      "source": [
        "from sklearn.preprocessing import OneHotEncoder\n",
        "ohe=OneHotEncoder()\n",
        "df_encoded=df.copy()\n",
        "cat_cols=['Region',\t'State',\t'Area',\t'City']\n",
        "for i in cat_cols:\n",
        "  df_encoded[i] = ohe.fit_transform(df_encoded[i])\n",
        "df_encoded.shape"
      ],
      "metadata": {
        "colab": {
          "base_uri": "https://localhost:8080/",
          "height": 391
        },
        "id": "2otiN4hjOC2l",
        "outputId": "80e61c87-e238-4674-f944-3b0c6f02b60d"
      },
      "execution_count": null,
      "outputs": [
        {
          "output_type": "error",
          "ename": "ValueError",
          "evalue": "Expected a 2-dimensional container but got <class 'pandas.core.series.Series'> instead. Pass a DataFrame containing a single row (i.e. single sample) or a single column (i.e. single feature) instead.",
          "traceback": [
            "\u001b[0;31m---------------------------------------------------------------------------\u001b[0m",
            "\u001b[0;31mValueError\u001b[0m                                Traceback (most recent call last)",
            "\u001b[0;32m/tmp/ipython-input-10-267846108.py\u001b[0m in \u001b[0;36m<cell line: 0>\u001b[0;34m()\u001b[0m\n\u001b[1;32m      4\u001b[0m \u001b[0mcat_cols\u001b[0m\u001b[0;34m=\u001b[0m\u001b[0;34m[\u001b[0m\u001b[0;34m'Region'\u001b[0m\u001b[0;34m,\u001b[0m     \u001b[0;34m'State'\u001b[0m\u001b[0;34m,\u001b[0m        \u001b[0;34m'Area'\u001b[0m\u001b[0;34m,\u001b[0m \u001b[0;34m'City'\u001b[0m\u001b[0;34m]\u001b[0m\u001b[0;34m\u001b[0m\u001b[0;34m\u001b[0m\u001b[0m\n\u001b[1;32m      5\u001b[0m \u001b[0;32mfor\u001b[0m \u001b[0mi\u001b[0m \u001b[0;32min\u001b[0m \u001b[0mcat_cols\u001b[0m\u001b[0;34m:\u001b[0m\u001b[0;34m\u001b[0m\u001b[0;34m\u001b[0m\u001b[0m\n\u001b[0;32m----> 6\u001b[0;31m   \u001b[0mdf_encoded\u001b[0m\u001b[0;34m[\u001b[0m\u001b[0mi\u001b[0m\u001b[0;34m]\u001b[0m \u001b[0;34m=\u001b[0m \u001b[0mohe\u001b[0m\u001b[0;34m.\u001b[0m\u001b[0mfit_transform\u001b[0m\u001b[0;34m(\u001b[0m\u001b[0mdf_encoded\u001b[0m\u001b[0;34m[\u001b[0m\u001b[0mi\u001b[0m\u001b[0;34m]\u001b[0m\u001b[0;34m)\u001b[0m\u001b[0;34m\u001b[0m\u001b[0;34m\u001b[0m\u001b[0m\n\u001b[0m\u001b[1;32m      7\u001b[0m \u001b[0mdf_encoded\u001b[0m\u001b[0;34m.\u001b[0m\u001b[0mshape\u001b[0m\u001b[0;34m\u001b[0m\u001b[0;34m\u001b[0m\u001b[0m\n",
            "\u001b[0;32m/usr/local/lib/python3.11/dist-packages/sklearn/utils/_set_output.py\u001b[0m in \u001b[0;36mwrapped\u001b[0;34m(self, X, *args, **kwargs)\u001b[0m\n\u001b[1;32m    317\u001b[0m     \u001b[0;34m@\u001b[0m\u001b[0mwraps\u001b[0m\u001b[0;34m(\u001b[0m\u001b[0mf\u001b[0m\u001b[0;34m)\u001b[0m\u001b[0;34m\u001b[0m\u001b[0;34m\u001b[0m\u001b[0m\n\u001b[1;32m    318\u001b[0m     \u001b[0;32mdef\u001b[0m \u001b[0mwrapped\u001b[0m\u001b[0;34m(\u001b[0m\u001b[0mself\u001b[0m\u001b[0;34m,\u001b[0m \u001b[0mX\u001b[0m\u001b[0;34m,\u001b[0m \u001b[0;34m*\u001b[0m\u001b[0margs\u001b[0m\u001b[0;34m,\u001b[0m \u001b[0;34m**\u001b[0m\u001b[0mkwargs\u001b[0m\u001b[0;34m)\u001b[0m\u001b[0;34m:\u001b[0m\u001b[0;34m\u001b[0m\u001b[0;34m\u001b[0m\u001b[0m\n\u001b[0;32m--> 319\u001b[0;31m         \u001b[0mdata_to_wrap\u001b[0m \u001b[0;34m=\u001b[0m \u001b[0mf\u001b[0m\u001b[0;34m(\u001b[0m\u001b[0mself\u001b[0m\u001b[0;34m,\u001b[0m \u001b[0mX\u001b[0m\u001b[0;34m,\u001b[0m \u001b[0;34m*\u001b[0m\u001b[0margs\u001b[0m\u001b[0;34m,\u001b[0m \u001b[0;34m**\u001b[0m\u001b[0mkwargs\u001b[0m\u001b[0;34m)\u001b[0m\u001b[0;34m\u001b[0m\u001b[0;34m\u001b[0m\u001b[0m\n\u001b[0m\u001b[1;32m    320\u001b[0m         \u001b[0;32mif\u001b[0m \u001b[0misinstance\u001b[0m\u001b[0;34m(\u001b[0m\u001b[0mdata_to_wrap\u001b[0m\u001b[0;34m,\u001b[0m \u001b[0mtuple\u001b[0m\u001b[0;34m)\u001b[0m\u001b[0;34m:\u001b[0m\u001b[0;34m\u001b[0m\u001b[0;34m\u001b[0m\u001b[0m\n\u001b[1;32m    321\u001b[0m             \u001b[0;31m# only wrap the first output for cross decomposition\u001b[0m\u001b[0;34m\u001b[0m\u001b[0;34m\u001b[0m\u001b[0m\n",
            "\u001b[0;32m/usr/local/lib/python3.11/dist-packages/sklearn/base.py\u001b[0m in \u001b[0;36mfit_transform\u001b[0;34m(self, X, y, **fit_params)\u001b[0m\n\u001b[1;32m    916\u001b[0m         \u001b[0;32mif\u001b[0m \u001b[0my\u001b[0m \u001b[0;32mis\u001b[0m \u001b[0;32mNone\u001b[0m\u001b[0;34m:\u001b[0m\u001b[0;34m\u001b[0m\u001b[0;34m\u001b[0m\u001b[0m\n\u001b[1;32m    917\u001b[0m             \u001b[0;31m# fit method of arity 1 (unsupervised transformation)\u001b[0m\u001b[0;34m\u001b[0m\u001b[0;34m\u001b[0m\u001b[0m\n\u001b[0;32m--> 918\u001b[0;31m             \u001b[0;32mreturn\u001b[0m \u001b[0mself\u001b[0m\u001b[0;34m.\u001b[0m\u001b[0mfit\u001b[0m\u001b[0;34m(\u001b[0m\u001b[0mX\u001b[0m\u001b[0;34m,\u001b[0m \u001b[0;34m**\u001b[0m\u001b[0mfit_params\u001b[0m\u001b[0;34m)\u001b[0m\u001b[0;34m.\u001b[0m\u001b[0mtransform\u001b[0m\u001b[0;34m(\u001b[0m\u001b[0mX\u001b[0m\u001b[0;34m)\u001b[0m\u001b[0;34m\u001b[0m\u001b[0;34m\u001b[0m\u001b[0m\n\u001b[0m\u001b[1;32m    919\u001b[0m         \u001b[0;32melse\u001b[0m\u001b[0;34m:\u001b[0m\u001b[0;34m\u001b[0m\u001b[0;34m\u001b[0m\u001b[0m\n\u001b[1;32m    920\u001b[0m             \u001b[0;31m# fit method of arity 2 (supervised transformation)\u001b[0m\u001b[0;34m\u001b[0m\u001b[0;34m\u001b[0m\u001b[0m\n",
            "\u001b[0;32m/usr/local/lib/python3.11/dist-packages/sklearn/base.py\u001b[0m in \u001b[0;36mwrapper\u001b[0;34m(estimator, *args, **kwargs)\u001b[0m\n\u001b[1;32m   1387\u001b[0m                 )\n\u001b[1;32m   1388\u001b[0m             ):\n\u001b[0;32m-> 1389\u001b[0;31m                 \u001b[0;32mreturn\u001b[0m \u001b[0mfit_method\u001b[0m\u001b[0;34m(\u001b[0m\u001b[0mestimator\u001b[0m\u001b[0;34m,\u001b[0m \u001b[0;34m*\u001b[0m\u001b[0margs\u001b[0m\u001b[0;34m,\u001b[0m \u001b[0;34m**\u001b[0m\u001b[0mkwargs\u001b[0m\u001b[0;34m)\u001b[0m\u001b[0;34m\u001b[0m\u001b[0;34m\u001b[0m\u001b[0m\n\u001b[0m\u001b[1;32m   1390\u001b[0m \u001b[0;34m\u001b[0m\u001b[0m\n\u001b[1;32m   1391\u001b[0m         \u001b[0;32mreturn\u001b[0m \u001b[0mwrapper\u001b[0m\u001b[0;34m\u001b[0m\u001b[0;34m\u001b[0m\u001b[0m\n",
            "\u001b[0;32m/usr/local/lib/python3.11/dist-packages/sklearn/preprocessing/_encoders.py\u001b[0m in \u001b[0;36mfit\u001b[0;34m(self, X, y)\u001b[0m\n\u001b[1;32m    989\u001b[0m             \u001b[0mFitted\u001b[0m \u001b[0mencoder\u001b[0m\u001b[0;34m.\u001b[0m\u001b[0;34m\u001b[0m\u001b[0;34m\u001b[0m\u001b[0m\n\u001b[1;32m    990\u001b[0m         \"\"\"\n\u001b[0;32m--> 991\u001b[0;31m         self._fit(\n\u001b[0m\u001b[1;32m    992\u001b[0m             \u001b[0mX\u001b[0m\u001b[0;34m,\u001b[0m\u001b[0;34m\u001b[0m\u001b[0;34m\u001b[0m\u001b[0m\n\u001b[1;32m    993\u001b[0m             \u001b[0mhandle_unknown\u001b[0m\u001b[0;34m=\u001b[0m\u001b[0mself\u001b[0m\u001b[0;34m.\u001b[0m\u001b[0mhandle_unknown\u001b[0m\u001b[0;34m,\u001b[0m\u001b[0;34m\u001b[0m\u001b[0;34m\u001b[0m\u001b[0m\n",
            "\u001b[0;32m/usr/local/lib/python3.11/dist-packages/sklearn/preprocessing/_encoders.py\u001b[0m in \u001b[0;36m_fit\u001b[0;34m(self, X, handle_unknown, ensure_all_finite, return_counts, return_and_ignore_missing_for_infrequent)\u001b[0m\n\u001b[1;32m     81\u001b[0m         \u001b[0m_check_n_features\u001b[0m\u001b[0;34m(\u001b[0m\u001b[0mself\u001b[0m\u001b[0;34m,\u001b[0m \u001b[0mX\u001b[0m\u001b[0;34m,\u001b[0m \u001b[0mreset\u001b[0m\u001b[0;34m=\u001b[0m\u001b[0;32mTrue\u001b[0m\u001b[0;34m)\u001b[0m\u001b[0;34m\u001b[0m\u001b[0;34m\u001b[0m\u001b[0m\n\u001b[1;32m     82\u001b[0m         \u001b[0m_check_feature_names\u001b[0m\u001b[0;34m(\u001b[0m\u001b[0mself\u001b[0m\u001b[0;34m,\u001b[0m \u001b[0mX\u001b[0m\u001b[0;34m,\u001b[0m \u001b[0mreset\u001b[0m\u001b[0;34m=\u001b[0m\u001b[0;32mTrue\u001b[0m\u001b[0;34m)\u001b[0m\u001b[0;34m\u001b[0m\u001b[0;34m\u001b[0m\u001b[0m\n\u001b[0;32m---> 83\u001b[0;31m         X_list, n_samples, n_features = self._check_X(\n\u001b[0m\u001b[1;32m     84\u001b[0m             \u001b[0mX\u001b[0m\u001b[0;34m,\u001b[0m \u001b[0mensure_all_finite\u001b[0m\u001b[0;34m=\u001b[0m\u001b[0mensure_all_finite\u001b[0m\u001b[0;34m\u001b[0m\u001b[0;34m\u001b[0m\u001b[0m\n\u001b[1;32m     85\u001b[0m         )\n",
            "\u001b[0;32m/usr/local/lib/python3.11/dist-packages/sklearn/preprocessing/_encoders.py\u001b[0m in \u001b[0;36m_check_X\u001b[0;34m(self, X, ensure_all_finite)\u001b[0m\n\u001b[1;32m     47\u001b[0m         \u001b[0;32mif\u001b[0m \u001b[0;32mnot\u001b[0m \u001b[0;34m(\u001b[0m\u001b[0mhasattr\u001b[0m\u001b[0;34m(\u001b[0m\u001b[0mX\u001b[0m\u001b[0;34m,\u001b[0m \u001b[0;34m\"iloc\"\u001b[0m\u001b[0;34m)\u001b[0m \u001b[0;32mand\u001b[0m \u001b[0mgetattr\u001b[0m\u001b[0;34m(\u001b[0m\u001b[0mX\u001b[0m\u001b[0;34m,\u001b[0m \u001b[0;34m\"ndim\"\u001b[0m\u001b[0;34m,\u001b[0m \u001b[0;36m0\u001b[0m\u001b[0;34m)\u001b[0m \u001b[0;34m==\u001b[0m \u001b[0;36m2\u001b[0m\u001b[0;34m)\u001b[0m\u001b[0;34m:\u001b[0m\u001b[0;34m\u001b[0m\u001b[0;34m\u001b[0m\u001b[0m\n\u001b[1;32m     48\u001b[0m             \u001b[0;31m# if not a dataframe, do normal check_array validation\u001b[0m\u001b[0;34m\u001b[0m\u001b[0;34m\u001b[0m\u001b[0m\n\u001b[0;32m---> 49\u001b[0;31m             \u001b[0mX_temp\u001b[0m \u001b[0;34m=\u001b[0m \u001b[0mcheck_array\u001b[0m\u001b[0;34m(\u001b[0m\u001b[0mX\u001b[0m\u001b[0;34m,\u001b[0m \u001b[0mdtype\u001b[0m\u001b[0;34m=\u001b[0m\u001b[0;32mNone\u001b[0m\u001b[0;34m,\u001b[0m \u001b[0mensure_all_finite\u001b[0m\u001b[0;34m=\u001b[0m\u001b[0mensure_all_finite\u001b[0m\u001b[0;34m)\u001b[0m\u001b[0;34m\u001b[0m\u001b[0;34m\u001b[0m\u001b[0m\n\u001b[0m\u001b[1;32m     50\u001b[0m             \u001b[0;32mif\u001b[0m \u001b[0;32mnot\u001b[0m \u001b[0mhasattr\u001b[0m\u001b[0;34m(\u001b[0m\u001b[0mX\u001b[0m\u001b[0;34m,\u001b[0m \u001b[0;34m\"dtype\"\u001b[0m\u001b[0;34m)\u001b[0m \u001b[0;32mand\u001b[0m \u001b[0mnp\u001b[0m\u001b[0;34m.\u001b[0m\u001b[0missubdtype\u001b[0m\u001b[0;34m(\u001b[0m\u001b[0mX_temp\u001b[0m\u001b[0;34m.\u001b[0m\u001b[0mdtype\u001b[0m\u001b[0;34m,\u001b[0m \u001b[0mnp\u001b[0m\u001b[0;34m.\u001b[0m\u001b[0mstr_\u001b[0m\u001b[0;34m)\u001b[0m\u001b[0;34m:\u001b[0m\u001b[0;34m\u001b[0m\u001b[0;34m\u001b[0m\u001b[0m\n\u001b[1;32m     51\u001b[0m                 \u001b[0mX\u001b[0m \u001b[0;34m=\u001b[0m \u001b[0mcheck_array\u001b[0m\u001b[0;34m(\u001b[0m\u001b[0mX\u001b[0m\u001b[0;34m,\u001b[0m \u001b[0mdtype\u001b[0m\u001b[0;34m=\u001b[0m\u001b[0mobject\u001b[0m\u001b[0;34m,\u001b[0m \u001b[0mensure_all_finite\u001b[0m\u001b[0;34m=\u001b[0m\u001b[0mensure_all_finite\u001b[0m\u001b[0;34m)\u001b[0m\u001b[0;34m\u001b[0m\u001b[0;34m\u001b[0m\u001b[0m\n",
            "\u001b[0;32m/usr/local/lib/python3.11/dist-packages/sklearn/utils/validation.py\u001b[0m in \u001b[0;36mcheck_array\u001b[0;34m(array, accept_sparse, accept_large_sparse, dtype, order, copy, force_writeable, force_all_finite, ensure_all_finite, ensure_non_negative, ensure_2d, allow_nd, ensure_min_samples, ensure_min_features, estimator, input_name)\u001b[0m\n\u001b[1;32m   1091\u001b[0m                         \u001b[0;34m\"if it contains a single sample.\"\u001b[0m\u001b[0;34m\u001b[0m\u001b[0;34m\u001b[0m\u001b[0m\n\u001b[1;32m   1092\u001b[0m                     )\n\u001b[0;32m-> 1093\u001b[0;31m                 \u001b[0;32mraise\u001b[0m \u001b[0mValueError\u001b[0m\u001b[0;34m(\u001b[0m\u001b[0mmsg\u001b[0m\u001b[0;34m)\u001b[0m\u001b[0;34m\u001b[0m\u001b[0;34m\u001b[0m\u001b[0m\n\u001b[0m\u001b[1;32m   1094\u001b[0m \u001b[0;34m\u001b[0m\u001b[0m\n\u001b[1;32m   1095\u001b[0m         \u001b[0;32mif\u001b[0m \u001b[0mdtype_numeric\u001b[0m \u001b[0;32mand\u001b[0m \u001b[0mhasattr\u001b[0m\u001b[0;34m(\u001b[0m\u001b[0marray\u001b[0m\u001b[0;34m.\u001b[0m\u001b[0mdtype\u001b[0m\u001b[0;34m,\u001b[0m \u001b[0;34m\"kind\"\u001b[0m\u001b[0;34m)\u001b[0m \u001b[0;32mand\u001b[0m \u001b[0marray\u001b[0m\u001b[0;34m.\u001b[0m\u001b[0mdtype\u001b[0m\u001b[0;34m.\u001b[0m\u001b[0mkind\u001b[0m \u001b[0;32min\u001b[0m \u001b[0;34m\"USV\"\u001b[0m\u001b[0;34m:\u001b[0m\u001b[0;34m\u001b[0m\u001b[0;34m\u001b[0m\u001b[0m\n",
            "\u001b[0;31mValueError\u001b[0m: Expected a 2-dimensional container but got <class 'pandas.core.series.Series'> instead. Pass a DataFrame containing a single row (i.e. single sample) or a single column (i.e. single feature) instead."
          ]
        }
      ]
    },
    {
      "cell_type": "code",
      "source": [
        "for i in df.columns:\n",
        "  plt.figure()\n",
        "  sns.boxplot(data=df_encoded[i])\n",
        "  plt.title(f'Boxplot of {i}')\n",
        "  plt.show()"
      ],
      "metadata": {
        "id": "jgXKav2_WXoR"
      },
      "execution_count": null,
      "outputs": []
    },
    {
      "cell_type": "code",
      "source": [
        "df_encoded"
      ],
      "metadata": {
        "id": "1zXzDQHIZp-r"
      },
      "execution_count": null,
      "outputs": []
    },
    {
      "cell_type": "code",
      "source": [
        "import matplotlib.pyplot as plt\n",
        "import seaborn as sns\n",
        "sns.heatmap(df_encoded,annot=True)"
      ],
      "metadata": {
        "id": "FZ6lEY34LYCn"
      },
      "execution_count": null,
      "outputs": []
    },
    {
      "cell_type": "code",
      "source": [],
      "metadata": {
        "id": "2qUET3OYLXpC"
      },
      "execution_count": null,
      "outputs": []
    },
    {
      "cell_type": "code",
      "source": [
        "from sklearn.model_selection import train_test_split\n",
        "from sklearn.preprocessing import MinMaxScaler\n",
        "scaler=MinMaxScaler()\n",
        "df_encoded['Claim_Value']=scaler.fit_transform(df_encoded[['Claim_Value']])"
      ],
      "metadata": {
        "id": "8-N_-hMnZgwr"
      },
      "execution_count": null,
      "outputs": []
    },
    {
      "cell_type": "code",
      "source": [
        "y=df_encoded['Fraud']\n",
        "X=df_encoded.drop('Fraud',axis=1)"
      ],
      "metadata": {
        "id": "p2LRT_H1bGgS"
      },
      "execution_count": null,
      "outputs": []
    },
    {
      "cell_type": "code",
      "source": [
        "X_train,X_test,y_train,y_test=train_test_split(X,y,test_size=0.2,random_state=42)"
      ],
      "metadata": {
        "id": "-i9-k1nYbXG1"
      },
      "execution_count": null,
      "outputs": []
    },
    {
      "cell_type": "code",
      "source": [
        "df_encoded"
      ],
      "metadata": {
        "id": "wG3cPl-yarzR"
      },
      "execution_count": null,
      "outputs": []
    },
    {
      "cell_type": "code",
      "source": [
        "from keras.layers import Dense,Dropout\n",
        "model= Sequential()\n",
        "model.add(Dense(32, activation='relu', input_shape=(18,)))\n",
        "model.add(Dropout(0.1))\n",
        "model.add(Dense(64, activation='relu'))\n",
        "model.add(Dropout(0.2))\n",
        "model.add(Dense(128, activation='relu'))\n",
        "model.add(Dropout(0.3))\n",
        "model.add(Dense(256, activation='relu'))\n",
        "model.add(Dropout(0.4))\n",
        "model.add(Dense(1, activation='sigmoid'))"
      ],
      "metadata": {
        "id": "zb1f0_NRWilq"
      },
      "execution_count": null,
      "outputs": []
    },
    {
      "cell_type": "code",
      "source": [
        "from keras.callbacks import EarlyStopping\n",
        "early_stop=EarlyStopping(monitor='val_loss',mode='min',verbose=1,patience=3)\n"
      ],
      "metadata": {
        "id": "Wz5io0ZPdjF2"
      },
      "execution_count": null,
      "outputs": []
    },
    {
      "cell_type": "code",
      "source": [
        "model.compile(optimizer='adam',loss='binary_crossentropy', metrics=['accuracy'])"
      ],
      "metadata": {
        "id": "2QQcocHuY_o5"
      },
      "execution_count": null,
      "outputs": []
    },
    {
      "cell_type": "code",
      "source": [
        "hist = model.fit(X_train, y_train, epochs=25, batch_size=32, validation_split=0.2, callbacks=[early_stop])"
      ],
      "metadata": {
        "id": "5TilRj56ZRbj"
      },
      "execution_count": null,
      "outputs": []
    },
    {
      "cell_type": "code",
      "source": [
        "model.evaluate(X_test,y_test)"
      ],
      "metadata": {
        "id": "Aafa4-n5ZcWZ"
      },
      "execution_count": null,
      "outputs": []
    },
    {
      "cell_type": "code",
      "source": [
        "model.evaluate(X_train,y_train)"
      ],
      "metadata": {
        "id": "6f9c1YFNdQYT"
      },
      "execution_count": null,
      "outputs": []
    },
    {
      "cell_type": "code",
      "source": [],
      "metadata": {
        "id": "4twTqCuXdXTx"
      },
      "execution_count": null,
      "outputs": []
    }
  ]
}