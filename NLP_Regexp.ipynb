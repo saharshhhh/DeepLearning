{
  "cells": [
    {
      "cell_type": "markdown",
      "metadata": {
        "id": "view-in-github",
        "colab_type": "text"
      },
      "source": [
        "<a href=\"https://colab.research.google.com/github/saharshhhh/DeepLearning/blob/main/NLP_Regexp.ipynb\" target=\"_parent\"><img src=\"https://colab.research.google.com/assets/colab-badge.svg\" alt=\"Open In Colab\"/></a>"
      ]
    },
    {
      "cell_type": "code",
      "execution_count": 1,
      "id": "ca53a044",
      "metadata": {
        "id": "ca53a044"
      },
      "outputs": [],
      "source": [
        "import pandas as pd\n",
        "import numpy as np\n",
        "import re"
      ]
    },
    {
      "cell_type": "code",
      "execution_count": 2,
      "id": "5e7dd672",
      "metadata": {
        "id": "5e7dd672",
        "outputId": "c6de7308-47e3-4fd9-8325-b37d1f81acba",
        "colab": {
          "base_uri": "https://localhost:8080/"
        }
      },
      "outputs": [
        {
          "output_type": "execute_result",
          "data": {
            "text/plain": [
              "<re.Match object; span=(0, 4), match='Ravi'>"
            ]
          },
          "metadata": {},
          "execution_count": 2
        }
      ],
      "source": [
        "re.search('Ravi','Ravi is Ravidas exceptional student')"
      ]
    },
    {
      "cell_type": "code",
      "execution_count": 3,
      "id": "947df68b",
      "metadata": {
        "id": "947df68b",
        "outputId": "7206b923-4ce7-4a68-e881-dd05de3a1d5d",
        "colab": {
          "base_uri": "https://localhost:8080/"
        }
      },
      "outputs": [
        {
          "output_type": "stream",
          "name": "stdout",
          "text": [
            "Ravi\n"
          ]
        }
      ],
      "source": [
        "name=re.search('Ravi','Ravi is Ravidas exceptional student')\n",
        "print(name.group())"
      ]
    },
    {
      "cell_type": "markdown",
      "id": "0c9c1a17",
      "metadata": {
        "id": "0c9c1a17"
      },
      "source": [
        "# Definig function for regexp\n"
      ]
    },
    {
      "cell_type": "code",
      "execution_count": 4,
      "id": "3307a7eb",
      "metadata": {
        "id": "3307a7eb"
      },
      "outputs": [],
      "source": [
        "def find_pattern(text,pattern):\n",
        "    if re.search(pattern,text):\n",
        "        return re.search(pattern,text)\n",
        "    else:\n",
        "        return 'not found !'"
      ]
    },
    {
      "cell_type": "markdown",
      "id": "53cc6baf",
      "metadata": {
        "id": "53cc6baf"
      },
      "source": [
        "##  ?  : zero or one tells weather the pattern is present or absent"
      ]
    },
    {
      "cell_type": "code",
      "execution_count": 5,
      "id": "7804e875",
      "metadata": {
        "id": "7804e875",
        "outputId": "18c2b7ab-a207-4a81-8f15-83396125abe0",
        "colab": {
          "base_uri": "https://localhost:8080/"
        }
      },
      "outputs": [
        {
          "output_type": "execute_result",
          "data": {
            "text/plain": [
              "<re.Match object; span=(0, 1), match='a'>"
            ]
          },
          "metadata": {},
          "execution_count": 5
        }
      ],
      "source": [
        "find_pattern('ac','ab?')"
      ]
    },
    {
      "cell_type": "code",
      "execution_count": 6,
      "id": "052e4f91",
      "metadata": {
        "id": "052e4f91",
        "outputId": "862d825d-c05c-4a98-ae66-7fd461145090",
        "colab": {
          "base_uri": "https://localhost:8080/"
        }
      },
      "outputs": [
        {
          "output_type": "execute_result",
          "data": {
            "text/plain": [
              "<re.Match object; span=(0, 2), match='ab'>"
            ]
          },
          "metadata": {},
          "execution_count": 6
        }
      ],
      "source": [
        "find_pattern(\"abc\",\"ab?\")"
      ]
    },
    {
      "cell_type": "code",
      "execution_count": 7,
      "id": "26ad0598",
      "metadata": {
        "id": "26ad0598",
        "outputId": "7bbc50ee-80d7-42b2-eb88-5717e5e3d49b",
        "colab": {
          "base_uri": "https://localhost:8080/"
        }
      },
      "outputs": [
        {
          "output_type": "execute_result",
          "data": {
            "text/plain": [
              "<re.Match object; span=(0, 2), match='ab'>"
            ]
          },
          "metadata": {},
          "execution_count": 7
        }
      ],
      "source": [
        "find_pattern('abbbc','abc?')"
      ]
    },
    {
      "cell_type": "code",
      "execution_count": 7,
      "id": "f27e1dcc",
      "metadata": {
        "id": "f27e1dcc"
      },
      "outputs": [],
      "source": []
    },
    {
      "cell_type": "markdown",
      "id": "40798d59",
      "metadata": {
        "id": "40798d59"
      },
      "source": [
        "##  *  : zero or more"
      ]
    },
    {
      "cell_type": "code",
      "execution_count": 8,
      "id": "a88e1008",
      "metadata": {
        "id": "a88e1008",
        "outputId": "72467375-0a19-41f0-d4dd-0a27df774a16",
        "colab": {
          "base_uri": "https://localhost:8080/"
        }
      },
      "outputs": [
        {
          "output_type": "execute_result",
          "data": {
            "text/plain": [
              "<re.Match object; span=(0, 1), match='a'>"
            ]
          },
          "metadata": {},
          "execution_count": 8
        }
      ],
      "source": [
        "find_pattern('ac','ab*')"
      ]
    },
    {
      "cell_type": "code",
      "execution_count": 9,
      "id": "db964272",
      "metadata": {
        "id": "db964272",
        "outputId": "95692e08-5af6-4bb2-e15a-d6635774244e",
        "colab": {
          "base_uri": "https://localhost:8080/"
        }
      },
      "outputs": [
        {
          "output_type": "execute_result",
          "data": {
            "text/plain": [
              "<re.Match object; span=(0, 2), match='ab'>"
            ]
          },
          "metadata": {},
          "execution_count": 9
        }
      ],
      "source": [
        "find_pattern('abc','ab*')"
      ]
    },
    {
      "cell_type": "code",
      "execution_count": 10,
      "id": "6774e8f2",
      "metadata": {
        "id": "6774e8f2",
        "outputId": "4664b503-b856-4f68-e24f-6d3e20e5b2fd",
        "colab": {
          "base_uri": "https://localhost:8080/"
        }
      },
      "outputs": [
        {
          "output_type": "execute_result",
          "data": {
            "text/plain": [
              "<re.Match object; span=(0, 6), match='abbbbb'>"
            ]
          },
          "metadata": {},
          "execution_count": 10
        }
      ],
      "source": [
        "find_pattern('abbbbbc','ab*')"
      ]
    },
    {
      "cell_type": "markdown",
      "id": "e1362353",
      "metadata": {
        "id": "e1362353"
      },
      "source": [
        "##  +  : one or more"
      ]
    },
    {
      "cell_type": "code",
      "execution_count": 11,
      "id": "424db63f",
      "metadata": {
        "id": "424db63f",
        "outputId": "f1b0f360-2e52-4aa8-8e36-048ff3f498f2",
        "colab": {
          "base_uri": "https://localhost:8080/",
          "height": 35
        }
      },
      "outputs": [
        {
          "output_type": "execute_result",
          "data": {
            "text/plain": [
              "'not found !'"
            ],
            "application/vnd.google.colaboratory.intrinsic+json": {
              "type": "string"
            }
          },
          "metadata": {},
          "execution_count": 11
        }
      ],
      "source": [
        "find_pattern('ac','ab+')"
      ]
    },
    {
      "cell_type": "code",
      "execution_count": 12,
      "id": "94600f38",
      "metadata": {
        "id": "94600f38",
        "outputId": "14118bd1-bd9f-4fc5-e9f2-adea8bdd9965",
        "colab": {
          "base_uri": "https://localhost:8080/"
        }
      },
      "outputs": [
        {
          "output_type": "execute_result",
          "data": {
            "text/plain": [
              "<re.Match object; span=(0, 2), match='ab'>"
            ]
          },
          "metadata": {},
          "execution_count": 12
        }
      ],
      "source": [
        "find_pattern('abc','ab+')"
      ]
    },
    {
      "cell_type": "code",
      "execution_count": 13,
      "id": "28bce761",
      "metadata": {
        "id": "28bce761",
        "outputId": "07ebc583-ad56-4c2c-e3fb-dcb59a1a52cb",
        "colab": {
          "base_uri": "https://localhost:8080/"
        }
      },
      "outputs": [
        {
          "output_type": "execute_result",
          "data": {
            "text/plain": [
              "<re.Match object; span=(0, 7), match='abbbbbb'>"
            ]
          },
          "metadata": {},
          "execution_count": 13
        }
      ],
      "source": [
        "find_pattern('abbbbbbc','ab+')"
      ]
    },
    {
      "cell_type": "markdown",
      "id": "d6669930",
      "metadata": {
        "id": "d6669930"
      },
      "source": [
        "## {n}  present exactly for n  time"
      ]
    },
    {
      "cell_type": "code",
      "execution_count": 14,
      "id": "1867601d",
      "metadata": {
        "id": "1867601d",
        "outputId": "6bb151e3-ceb0-4085-9e6a-b62e91e5d4b0",
        "colab": {
          "base_uri": "https://localhost:8080/"
        }
      },
      "outputs": [
        {
          "output_type": "execute_result",
          "data": {
            "text/plain": [
              "<re.Match object; span=(0, 5), match='abbbb'>"
            ]
          },
          "metadata": {},
          "execution_count": 14
        }
      ],
      "source": [
        "find_pattern('abbbbbbc','ab{4}')"
      ]
    },
    {
      "cell_type": "code",
      "execution_count": 15,
      "id": "2f9d9171",
      "metadata": {
        "id": "2f9d9171",
        "outputId": "5a52a588-a1db-4b23-d152-8aa140038b11",
        "colab": {
          "base_uri": "https://localhost:8080/",
          "height": 35
        }
      },
      "outputs": [
        {
          "output_type": "execute_result",
          "data": {
            "text/plain": [
              "'not found !'"
            ],
            "application/vnd.google.colaboratory.intrinsic+json": {
              "type": "string"
            }
          },
          "metadata": {},
          "execution_count": 15
        }
      ],
      "source": [
        "find_pattern('abbc','ab{4}')"
      ]
    },
    {
      "cell_type": "code",
      "execution_count": 16,
      "id": "4ea4cae9",
      "metadata": {
        "id": "4ea4cae9",
        "outputId": "d6560beb-ee1b-49bd-a2cb-1ce9754080c0",
        "colab": {
          "base_uri": "https://localhost:8080/"
        }
      },
      "outputs": [
        {
          "output_type": "execute_result",
          "data": {
            "text/plain": [
              "<re.Match object; span=(0, 6), match='abbbbb'>"
            ]
          },
          "metadata": {},
          "execution_count": 16
        }
      ],
      "source": [
        "find_pattern('abbbbbbc','ab{3,5}')"
      ]
    },
    {
      "cell_type": "code",
      "execution_count": 17,
      "id": "d704db14",
      "metadata": {
        "id": "d704db14",
        "outputId": "266d702f-84dc-43e9-e700-abef69f46ce5",
        "colab": {
          "base_uri": "https://localhost:8080/",
          "height": 35
        }
      },
      "outputs": [
        {
          "output_type": "execute_result",
          "data": {
            "text/plain": [
              "'not found !'"
            ],
            "application/vnd.google.colaboratory.intrinsic+json": {
              "type": "string"
            }
          },
          "metadata": {},
          "execution_count": 17
        }
      ],
      "source": [
        "find_pattern('abbbbbbc','ab{7,10}')"
      ]
    },
    {
      "cell_type": "code",
      "execution_count": 18,
      "id": "5a52f4f6",
      "metadata": {
        "id": "5a52f4f6",
        "outputId": "8fc4a8fc-f065-421c-8468-826a7819f6f6",
        "colab": {
          "base_uri": "https://localhost:8080/"
        }
      },
      "outputs": [
        {
          "output_type": "execute_result",
          "data": {
            "text/plain": [
              "<re.Match object; span=(0, 7), match='abbbbbb'>"
            ]
          },
          "metadata": {},
          "execution_count": 18
        }
      ],
      "source": [
        "find_pattern('abbbbbbc','ab{,10}')"
      ]
    },
    {
      "cell_type": "code",
      "execution_count": 19,
      "id": "dde44735",
      "metadata": {
        "id": "dde44735",
        "outputId": "d1cafadf-7dd8-4a19-879f-e57cad6e46da",
        "colab": {
          "base_uri": "https://localhost:8080/",
          "height": 35
        }
      },
      "outputs": [
        {
          "output_type": "execute_result",
          "data": {
            "text/plain": [
              "'not found !'"
            ],
            "application/vnd.google.colaboratory.intrinsic+json": {
              "type": "string"
            }
          },
          "metadata": {},
          "execution_count": 19
        }
      ],
      "source": [
        "find_pattern('abbbbbbc','ab{10,}')"
      ]
    },
    {
      "cell_type": "markdown",
      "id": "c91c167e",
      "metadata": {
        "id": "c91c167e"
      },
      "source": [
        "## Anchors ^"
      ]
    },
    {
      "cell_type": "code",
      "execution_count": 20,
      "id": "eb16c6ee",
      "metadata": {
        "id": "eb16c6ee",
        "outputId": "0c24fe7c-e91b-403c-b5ba-e4fb8272e8d8",
        "colab": {
          "base_uri": "https://localhost:8080/"
        }
      },
      "outputs": [
        {
          "output_type": "execute_result",
          "data": {
            "text/plain": [
              "<re.Match object; span=(0, 1), match='J'>"
            ]
          },
          "metadata": {},
          "execution_count": 20
        }
      ],
      "source": [
        "find_pattern('James','^J')"
      ]
    },
    {
      "cell_type": "code",
      "execution_count": 21,
      "id": "c69dcbb1",
      "metadata": {
        "id": "c69dcbb1",
        "outputId": "6f3efe6f-baf4-499e-c201-e1a694f243c0",
        "colab": {
          "base_uri": "https://localhost:8080/",
          "height": 35
        }
      },
      "outputs": [
        {
          "output_type": "execute_result",
          "data": {
            "text/plain": [
              "'not found !'"
            ],
            "application/vnd.google.colaboratory.intrinsic+json": {
              "type": "string"
            }
          },
          "metadata": {},
          "execution_count": 21
        }
      ],
      "source": [
        "find_pattern('Pramod','^J')"
      ]
    },
    {
      "cell_type": "code",
      "execution_count": 22,
      "id": "e88c2da2",
      "metadata": {
        "id": "e88c2da2",
        "outputId": "c696b4e4-45be-41dc-d191-2d07dcf293b3",
        "colab": {
          "base_uri": "https://localhost:8080/",
          "height": 35
        }
      },
      "outputs": [
        {
          "output_type": "execute_result",
          "data": {
            "text/plain": [
              "'not found !'"
            ],
            "application/vnd.google.colaboratory.intrinsic+json": {
              "type": "string"
            }
          },
          "metadata": {},
          "execution_count": 22
        }
      ],
      "source": [
        "find_pattern('James','J$')"
      ]
    },
    {
      "cell_type": "code",
      "execution_count": 23,
      "id": "7b1603f0",
      "metadata": {
        "id": "7b1603f0",
        "outputId": "1d384bfe-2781-41ae-9d1c-524c5d1e1b29",
        "colab": {
          "base_uri": "https://localhost:8080/"
        }
      },
      "outputs": [
        {
          "output_type": "execute_result",
          "data": {
            "text/plain": [
              "<re.Match object; span=(4, 5), match='s'>"
            ]
          },
          "metadata": {},
          "execution_count": 23
        }
      ],
      "source": [
        "find_pattern('James','s$')"
      ]
    },
    {
      "cell_type": "code",
      "execution_count": 24,
      "id": "5eef7d1e",
      "metadata": {
        "id": "5eef7d1e",
        "outputId": "305576ea-02fe-493e-ea4f-26f28369b61b",
        "colab": {
          "base_uri": "https://localhost:8080/"
        }
      },
      "outputs": [
        {
          "output_type": "execute_result",
          "data": {
            "text/plain": [
              "True"
            ]
          },
          "metadata": {},
          "execution_count": 24
        }
      ],
      "source": [
        "'James'.startswith('J')"
      ]
    },
    {
      "cell_type": "code",
      "execution_count": 25,
      "id": "1283541e",
      "metadata": {
        "id": "1283541e",
        "outputId": "e7a25552-330d-490c-9485-8a1d35129605",
        "colab": {
          "base_uri": "https://localhost:8080/"
        }
      },
      "outputs": [
        {
          "output_type": "execute_result",
          "data": {
            "text/plain": [
              "False"
            ]
          },
          "metadata": {},
          "execution_count": 25
        }
      ],
      "source": [
        "'James'.startswith('j')"
      ]
    },
    {
      "cell_type": "code",
      "execution_count": 26,
      "id": "438d95fc",
      "metadata": {
        "id": "438d95fc",
        "outputId": "3e7412cf-61de-432e-f014-0a860b17959d",
        "colab": {
          "base_uri": "https://localhost:8080/"
        }
      },
      "outputs": [
        {
          "output_type": "execute_result",
          "data": {
            "text/plain": [
              "False"
            ]
          },
          "metadata": {},
          "execution_count": 26
        }
      ],
      "source": [
        "'James'.startswith('l')"
      ]
    },
    {
      "cell_type": "code",
      "execution_count": 27,
      "id": "c8ccb6d4",
      "metadata": {
        "id": "c8ccb6d4",
        "outputId": "0e60cf7d-baf5-4ff5-a330-acfeb1a3e442",
        "colab": {
          "base_uri": "https://localhost:8080/"
        }
      },
      "outputs": [
        {
          "output_type": "execute_result",
          "data": {
            "text/plain": [
              "False"
            ]
          },
          "metadata": {},
          "execution_count": 27
        }
      ],
      "source": [
        "'James'.endswith('j')"
      ]
    },
    {
      "cell_type": "code",
      "execution_count": 28,
      "id": "295e139b",
      "metadata": {
        "id": "295e139b",
        "outputId": "a736adac-1185-4a6e-ac08-854bafc94384",
        "colab": {
          "base_uri": "https://localhost:8080/"
        }
      },
      "outputs": [
        {
          "output_type": "execute_result",
          "data": {
            "text/plain": [
              "True"
            ]
          },
          "metadata": {},
          "execution_count": 28
        }
      ],
      "source": [
        "'James'.endswith('s')"
      ]
    },
    {
      "cell_type": "code",
      "execution_count": 28,
      "id": "1fc75e33",
      "metadata": {
        "id": "1fc75e33"
      },
      "outputs": [],
      "source": []
    },
    {
      "cell_type": "markdown",
      "id": "111634f1",
      "metadata": {
        "id": "111634f1"
      },
      "source": [
        "# Wildcard"
      ]
    },
    {
      "cell_type": "markdown",
      "id": "c5c4da25",
      "metadata": {
        "id": "c5c4da25"
      },
      "source": [
        "##  .  dot   any character"
      ]
    },
    {
      "cell_type": "code",
      "execution_count": 29,
      "id": "9b1eda89",
      "metadata": {
        "id": "9b1eda89",
        "outputId": "e80c9d1c-9c8c-4557-ca8d-23456d041ad8",
        "colab": {
          "base_uri": "https://localhost:8080/"
        }
      },
      "outputs": [
        {
          "output_type": "execute_result",
          "data": {
            "text/plain": [
              "<re.Match object; span=(0, 1), match='J'>"
            ]
          },
          "metadata": {},
          "execution_count": 29
        }
      ],
      "source": [
        "find_pattern('James','.')"
      ]
    },
    {
      "cell_type": "code",
      "execution_count": 30,
      "id": "701aabf0",
      "metadata": {
        "id": "701aabf0",
        "outputId": "9419233b-2e87-4880-b93d-66aaeaabe027",
        "colab": {
          "base_uri": "https://localhost:8080/"
        }
      },
      "outputs": [
        {
          "output_type": "execute_result",
          "data": {
            "text/plain": [
              "<re.Match object; span=(0, 1), match='k'>"
            ]
          },
          "metadata": {},
          "execution_count": 30
        }
      ],
      "source": [
        "find_pattern('kja679','.')"
      ]
    },
    {
      "cell_type": "code",
      "execution_count": 30,
      "id": "e5bdc1dc",
      "metadata": {
        "id": "e5bdc1dc"
      },
      "outputs": [],
      "source": []
    },
    {
      "cell_type": "code",
      "execution_count": 31,
      "id": "57434ca1",
      "metadata": {
        "id": "57434ca1",
        "outputId": "b3ba5ca9-440d-4b96-d9b7-fd26e03ca03e",
        "colab": {
          "base_uri": "https://localhost:8080/"
        }
      },
      "outputs": [
        {
          "output_type": "execute_result",
          "data": {
            "text/plain": [
              "<re.Match object; span=(0, 1), match='a'>"
            ]
          },
          "metadata": {},
          "execution_count": 31
        }
      ],
      "source": [
        "find_pattern('a','[abc]') #mentioned character in  list"
      ]
    },
    {
      "cell_type": "code",
      "execution_count": 32,
      "id": "358a3889",
      "metadata": {
        "id": "358a3889",
        "outputId": "ece64855-c9e3-4ba9-b3ed-bd40c18dbb44",
        "colab": {
          "base_uri": "https://localhost:8080/"
        }
      },
      "outputs": [
        {
          "output_type": "execute_result",
          "data": {
            "text/plain": [
              "<re.Match object; span=(0, 1), match='c'>"
            ]
          },
          "metadata": {},
          "execution_count": 32
        }
      ],
      "source": [
        "find_pattern('c','[a-c]')  #mentioned character in range of list"
      ]
    },
    {
      "cell_type": "code",
      "execution_count": 32,
      "id": "06ae0960",
      "metadata": {
        "id": "06ae0960"
      },
      "outputs": [],
      "source": []
    },
    {
      "cell_type": "code",
      "execution_count": 33,
      "id": "0d78284b",
      "metadata": {
        "id": "0d78284b",
        "outputId": "a8b35055-9745-43e5-acf5-1faa593cb331",
        "colab": {
          "base_uri": "https://localhost:8080/",
          "height": 35
        }
      },
      "outputs": [
        {
          "output_type": "execute_result",
          "data": {
            "text/plain": [
              "'not found !'"
            ],
            "application/vnd.google.colaboratory.intrinsic+json": {
              "type": "string"
            }
          },
          "metadata": {},
          "execution_count": 33
        }
      ],
      "source": [
        "find_pattern('a','[^abc]')  #other than ^ mentioned  characters"
      ]
    },
    {
      "cell_type": "code",
      "execution_count": 34,
      "id": "5fc90681",
      "metadata": {
        "id": "5fc90681",
        "outputId": "a3989c6d-a14b-4539-8048-aa3d25d1d615",
        "colab": {
          "base_uri": "https://localhost:8080/",
          "height": 35
        }
      },
      "outputs": [
        {
          "output_type": "execute_result",
          "data": {
            "text/plain": [
              "'not found !'"
            ],
            "application/vnd.google.colaboratory.intrinsic+json": {
              "type": "string"
            }
          },
          "metadata": {},
          "execution_count": 34
        }
      ],
      "source": [
        "find_pattern('a','[^a-c]') #other than ^ a_c characters"
      ]
    },
    {
      "cell_type": "code",
      "execution_count": 35,
      "id": "aa427c21",
      "metadata": {
        "id": "aa427c21",
        "outputId": "cb8b1eb2-5f80-47ce-c2f9-6fc6da83cbd3",
        "colab": {
          "base_uri": "https://localhost:8080/"
        }
      },
      "outputs": [
        {
          "output_type": "execute_result",
          "data": {
            "text/plain": [
              "<re.Match object; span=(0, 1), match='z'>"
            ]
          },
          "metadata": {},
          "execution_count": 35
        }
      ],
      "source": [
        "find_pattern('zfrgr','[^a-c]')  #other than ^ a_c characters"
      ]
    },
    {
      "cell_type": "markdown",
      "id": "95c82171",
      "metadata": {
        "id": "95c82171"
      },
      "source": [
        "## pattern                            matches\n",
        "\n",
        "\n",
        "    [abc]            matches either a b and c characters\n",
        "\n",
        "    [abcABC]              matches either a b and c A B and C characters\n",
        "\n",
        "    [a-z]               matches a to z\n",
        "\n",
        "    [A-Z]       matches capital A to Z\n",
        "\n",
        "    [0-9]       matches any number\n",
        "\n",
        "    \\s          [\\t\\n\\v\\f\\r]\n",
        "    \n",
        "    \\S          [^\\t\\n\\v\\f\\r]\n",
        "\n",
        "\n",
        "    \\d          [0-9]\n",
        "    \n",
        "    \\D          [^0-9]\n",
        "\n",
        "    \\w          [a-zA-Z0-9]\n",
        "\n",
        "    \\W          [^a-zA-Z0-9]"
      ]
    },
    {
      "cell_type": "markdown",
      "id": "62d7b20b",
      "metadata": {
        "id": "62d7b20b"
      },
      "source": [
        "* re.match()  determine if re matches at begining of string\n",
        "\n",
        "* re.search  scan trough the string and looking for any location where this re matches\n",
        "\n",
        "* re.finall() Find all the substring where re matches and return them as list\n",
        "\n",
        "* re.finditer  Find all the substring where re matches and return them as an iterator\n",
        "\n",
        "* re.sub()      ind all the substring where re matches and substitute them with given string"
      ]
    },
    {
      "cell_type": "code",
      "execution_count": 36,
      "id": "23832c2e",
      "metadata": {
        "id": "23832c2e"
      },
      "outputs": [],
      "source": [
        "def match_pattern(text,pattern):\n",
        "    if re.match(pattern,text):\n",
        "        return re.match(pattern,text)\n",
        "    else:\n",
        "        return 'not found !'"
      ]
    },
    {
      "cell_type": "code",
      "execution_count": 37,
      "id": "abfa4935",
      "metadata": {
        "id": "abfa4935",
        "outputId": "b738a560-4f61-4ba8-b27e-986e4c11ae66",
        "colab": {
          "base_uri": "https://localhost:8080/",
          "height": 35
        }
      },
      "outputs": [
        {
          "output_type": "execute_result",
          "data": {
            "text/plain": [
              "'not found !'"
            ],
            "application/vnd.google.colaboratory.intrinsic+json": {
              "type": "string"
            }
          },
          "metadata": {},
          "execution_count": 37
        }
      ],
      "source": [
        "match_pattern('abbc','b+') # begining string and quantifier"
      ]
    },
    {
      "cell_type": "code",
      "execution_count": 38,
      "id": "9f3dc947",
      "metadata": {
        "id": "9f3dc947",
        "outputId": "d44e6cb5-5808-404d-c397-d194acdc0a71",
        "colab": {
          "base_uri": "https://localhost:8080/"
        }
      },
      "outputs": [
        {
          "output_type": "execute_result",
          "data": {
            "text/plain": [
              "<re.Match object; span=(1, 3), match='bb'>"
            ]
          },
          "metadata": {},
          "execution_count": 38
        }
      ],
      "source": [
        "find_pattern('abbc','b+')"
      ]
    },
    {
      "cell_type": "code",
      "execution_count": 39,
      "id": "90d50294",
      "metadata": {
        "id": "90d50294",
        "outputId": "66c1ce84-cdd9-4e79-9e94-03127306a534",
        "colab": {
          "base_uri": "https://localhost:8080/"
        }
      },
      "outputs": [
        {
          "output_type": "execute_result",
          "data": {
            "text/plain": [
              "<re.Match object; span=(0, 3), match='bbb'>"
            ]
          },
          "metadata": {},
          "execution_count": 39
        }
      ],
      "source": [
        "match_pattern('bbbcbfgf','b+')"
      ]
    },
    {
      "cell_type": "markdown",
      "id": "2ef6d28c",
      "metadata": {
        "id": "2ef6d28c"
      },
      "source": [
        "# Substitute re.sub()"
      ]
    },
    {
      "cell_type": "code",
      "execution_count": 40,
      "id": "812524d3",
      "metadata": {
        "id": "812524d3",
        "outputId": "b31afc67-b811-4471-f622-727550dedab0",
        "colab": {
          "base_uri": "https://localhost:8080/"
        }
      },
      "outputs": [
        {
          "output_type": "stream",
          "name": "stdout",
          "text": [
            "21 ramkrishna rd\n"
          ]
        }
      ],
      "source": [
        "text='21 ramkrishna road'\n",
        "print(re.sub('road','rd',text))"
      ]
    },
    {
      "cell_type": "code",
      "execution_count": 41,
      "id": "1b23c942",
      "metadata": {
        "id": "1b23c942",
        "outputId": "e0474e31-dd00-493a-aa5f-76ff07f9ee12",
        "colab": {
          "base_uri": "https://localhost:8080/"
        }
      },
      "outputs": [
        {
          "output_type": "stream",
          "name": "stdout",
          "text": [
            " my nae is hgt rd\n"
          ]
        }
      ],
      "source": [
        "text=' my nae is hgt html'\n",
        "print(re.sub('html','rd',text))"
      ]
    },
    {
      "cell_type": "code",
      "execution_count": 42,
      "id": "26d5a31f",
      "metadata": {
        "id": "26d5a31f",
        "outputId": "ae6089bf-bcac-461d-e83f-b5af973cdeba",
        "colab": {
          "base_uri": "https://localhost:8080/"
        }
      },
      "outputs": [
        {
          "output_type": "stream",
          "name": "stdout",
          "text": [
            "21 Ramkrishna Road\n"
          ]
        }
      ],
      "source": [
        "text='21 Ramkrishna Road'\n",
        "print(re.sub('road','rd',text))"
      ]
    },
    {
      "cell_type": "code",
      "execution_count": 43,
      "id": "3e31874f",
      "metadata": {
        "id": "3e31874f",
        "outputId": "a720c43c-ae26-4ca7-d7c5-2e978a9f582d",
        "colab": {
          "base_uri": "https://localhost:8080/"
        }
      },
      "outputs": [
        {
          "output_type": "stream",
          "name": "stdout",
          "text": [
            "21 rd rd\n"
          ]
        }
      ],
      "source": [
        "text='21 ramkrishna road'\n",
        "print(re.sub('r\\w+','rd',text))"
      ]
    },
    {
      "cell_type": "code",
      "execution_count": 44,
      "id": "7d7f5e99",
      "metadata": {
        "id": "7d7f5e99",
        "outputId": "015eefb2-123e-4be2-f762-e7c53b31aeec",
        "colab": {
          "base_uri": "https://localhost:8080/"
        }
      },
      "outputs": [
        {
          "output_type": "stream",
          "name": "stdout",
          "text": [
            "21 rdmkrdshna rdad\n"
          ]
        }
      ],
      "source": [
        "text='21 ramkrishna road'\n",
        "print(re.sub('r\\w','rd',text))"
      ]
    },
    {
      "cell_type": "markdown",
      "id": "ff5465b3",
      "metadata": {
        "id": "ff5465b3"
      },
      "source": [
        "# re.findall()"
      ]
    },
    {
      "cell_type": "code",
      "execution_count": 45,
      "id": "1292648d",
      "metadata": {
        "id": "1292648d",
        "outputId": "c76d3dd7-d5da-468b-9978-9bdfcdbfb4c4",
        "colab": {
          "base_uri": "https://localhost:8080/"
        }
      },
      "outputs": [
        {
          "output_type": "execute_result",
          "data": {
            "text/plain": [
              "['45', '414001']"
            ]
          },
          "metadata": {},
          "execution_count": 45
        }
      ],
      "source": [
        "pattern='[0-9]+'\n",
        "text=' House no. 45, unique park , pune 414001 '\n",
        "re.findall(pattern,text)"
      ]
    },
    {
      "cell_type": "code",
      "execution_count": 46,
      "id": "eed14940",
      "metadata": {
        "id": "eed14940",
        "outputId": "9f516409-4ae9-4128-d17f-012286df366e",
        "colab": {
          "base_uri": "https://localhost:8080/"
        }
      },
      "outputs": [
        {
          "output_type": "execute_result",
          "data": {
            "text/plain": [
              "['45', '414001']"
            ]
          },
          "metadata": {},
          "execution_count": 46
        }
      ],
      "source": [
        "pattern1='[0-9]'\n",
        "text1=' House no. 45, unique park , pune 414001 '\n",
        "re.findall(pattern,text)"
      ]
    },
    {
      "cell_type": "code",
      "execution_count": 46,
      "id": "4dc6c6ff",
      "metadata": {
        "id": "4dc6c6ff"
      },
      "outputs": [],
      "source": []
    },
    {
      "cell_type": "code",
      "execution_count": 47,
      "id": "6919e4c0",
      "metadata": {
        "id": "6919e4c0",
        "outputId": "2fe8d663-cb90-465c-8c04-6f4ccdfbb412",
        "colab": {
          "base_uri": "https://localhost:8080/",
          "height": 35
        }
      },
      "outputs": [
        {
          "output_type": "execute_result",
          "data": {
            "text/plain": [
              "'45'"
            ],
            "application/vnd.google.colaboratory.intrinsic+json": {
              "type": "string"
            }
          },
          "metadata": {},
          "execution_count": 47
        }
      ],
      "source": [
        "pattern='[0-9]+'\n",
        "text=' House no. 45, unique park , pune 414001 '\n",
        "match=re.search(pattern,text)\n",
        "match.group()"
      ]
    },
    {
      "cell_type": "code",
      "execution_count": 48,
      "id": "9ec76c97",
      "metadata": {
        "id": "9ec76c97",
        "outputId": "76e7c8b3-5b95-45bb-f203-73e02cea6148",
        "colab": {
          "base_uri": "https://localhost:8080/",
          "height": 35
        }
      },
      "outputs": [
        {
          "output_type": "execute_result",
          "data": {
            "text/plain": [
              "' House no. numbers, unique park , pune numbers '"
            ],
            "application/vnd.google.colaboratory.intrinsic+json": {
              "type": "string"
            }
          },
          "metadata": {},
          "execution_count": 48
        }
      ],
      "source": [
        "pattern='[0-9]+'\n",
        "text=' House no. 45, unique park , pune 414001 '\n",
        "re.sub(pattern,'numbers',text)"
      ]
    },
    {
      "cell_type": "code",
      "execution_count": 49,
      "id": "af6cca83",
      "metadata": {
        "id": "af6cca83",
        "outputId": "b48c7013-1203-4900-fdbf-83efa553669d",
        "colab": {
          "base_uri": "https://localhost:8080/",
          "height": 35
        }
      },
      "outputs": [
        {
          "output_type": "execute_result",
          "data": {
            "text/plain": [
              "'H'"
            ],
            "application/vnd.google.colaboratory.intrinsic+json": {
              "type": "string"
            }
          },
          "metadata": {},
          "execution_count": 49
        }
      ],
      "source": [
        "pattern='[^0-9]'\n",
        "text='House no. 45, unique park , pune 414001 '\n",
        "match1=re.match(pattern,text)\n",
        "match1.group()"
      ]
    },
    {
      "cell_type": "code",
      "execution_count": 50,
      "id": "c72da082",
      "metadata": {
        "id": "c72da082",
        "outputId": "c02bff0a-f3f3-4fd4-c40e-0dc90e2dcfa7",
        "colab": {
          "base_uri": "https://localhost:8080/"
        }
      },
      "outputs": [
        {
          "output_type": "stream",
          "name": "stdout",
          "text": [
            "START :  12END :  20\n",
            "START :  42END :  50\n"
          ]
        }
      ],
      "source": [
        "text='Diwali is a festival of light , Holi is a festival of colors'\n",
        "pattern='festival'\n",
        "\n",
        "for match in re.finditer(pattern,text):\n",
        "    print('START : ',match.start(),end='')\n",
        "    print('END : ',match.end())"
      ]
    },
    {
      "cell_type": "code",
      "execution_count": 50,
      "id": "d75e1c59",
      "metadata": {
        "id": "d75e1c59"
      },
      "outputs": [],
      "source": []
    }
  ],
  "metadata": {
    "kernelspec": {
      "display_name": "Python 3 (ipykernel)",
      "language": "python",
      "name": "python3"
    },
    "language_info": {
      "codemirror_mode": {
        "name": "ipython",
        "version": 3
      },
      "file_extension": ".py",
      "mimetype": "text/x-python",
      "name": "python",
      "nbconvert_exporter": "python",
      "pygments_lexer": "ipython3",
      "version": "3.9.7"
    },
    "colab": {
      "provenance": [],
      "include_colab_link": true
    }
  },
  "nbformat": 4,
  "nbformat_minor": 5
}